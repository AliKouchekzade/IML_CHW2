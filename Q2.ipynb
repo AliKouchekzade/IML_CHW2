{
  "cells": [
    {
      "cell_type": "markdown",
      "metadata": {
        "id": "ChC3RF8meAlK"
      },
      "source": [
        "<h1 align=\"center\">Introduction to Machine Learning - 25737-2</h1>\n",
        "<h4 align=\"center\">Dr. R. Amiri</h4>\n",
        "<h4 align=\"center\">Sharif University of Technology, Spring 2024</h4>\n",
        "\n",
        "\n",
        "**<font color='red'>Plagiarism is strongly prohibited!</font>**\n",
        "\n",
        "\n",
        "**Student Name**: Ali Kouchakzade\n",
        "\n",
        "**Student ID**: 400101837\n",
        "\n",
        "\n",
        "\n"
      ]
    },
    {
      "cell_type": "markdown",
      "metadata": {
        "id": "IraiR0SbeDi_"
      },
      "source": [
        "# Logistic Regression"
      ]
    },
    {
      "cell_type": "markdown",
      "metadata": {
        "id": "nRQjwWC3eDnc"
      },
      "source": [
        "**Task:** Implement your own Logistic Regression model, and test it on the given dataset of Logistic_question.csv!"
      ]
    },
    {
      "cell_type": "code",
      "execution_count": 1,
      "metadata": {},
      "outputs": [],
      "source": [
        "# import necessary libraries\n",
        "import numpy as np\n",
        "from matplotlib import pyplot as plt\n",
        "import pandas as pd\n",
        "from sklearn.linear_model import LogisticRegression\n",
        "from sklearn.metrics import confusion_matrix , ConfusionMatrixDisplay \n",
        "from sklearn.model_selection import train_test_split \n",
        "from sklearn.preprocessing import MinMaxScaler"
      ]
    },
    {
      "cell_type": "code",
      "execution_count": 238,
      "metadata": {},
      "outputs": [],
      "source": [
        "class MyLogisticRegression:\n",
        "    # Your code goes here!\n",
        "    # This class must have an __init__ method, a loss function, a fit function, and a predict function.\n",
        "    # You also need to make your code runnable on gpu!\n",
        "\n",
        "    def __init__(self) :\n",
        "        self.__coef = np.array([])\n",
        "        self.__intercept = 0\n",
        "    \n",
        "    def fit(self,X,y,max_epoch,learning_rate) :\n",
        "        self.__n = X.shape[1]\n",
        "        self.__coef = np.zeros((self.__n,1),dtype=np.float64)\n",
        "        y_pred , prev_log_loss = self.predict(X) , np.Inf\n",
        "        for _ in range(max_epoch):\n",
        "            coef , intercept = self.gradinet_descent(X,y,y_pred)\n",
        "            self.__coef, self.__intercept = self.__coef - learning_rate * coef, self.__intercept - learning_rate * intercept\n",
        "            y_pred , log_loss = self.predict(X) , self.loss(y,y_pred)\n",
        "            if np.abs(prev_log_loss - log_loss) < 1e-6 : break\n",
        "            prev_log_loss = log_loss\n",
        "        if _ == max_epoch - 1 : print(f'max epoch reached')\n",
        "        print (f'log_loss : {log_loss:.4f} with {_} epoch \\n')\n",
        "        \n",
        "    def predict(self,X):\n",
        "        if X.shape[1] != self.__n : print('wrong input feature dimensiona'); return 0\n",
        "        Z = X @ self.__coef + self.__intercept\n",
        "        return np.array([ 1 / (1 + np.exp(-z)) for z in Z]).squeeze()\n",
        "    \n",
        "    def loss(self,y,y_pred) :\n",
        "        return -np.mean(np.array([np.log(i) if y[indx] == 1 else np.log(1-i) for indx,i in enumerate(y_pred)]))\n",
        "    \n",
        "    def gradinet_descent(self,X,y,y_pred):\n",
        "        return np.array([np.dot(y_pred - y,x_i) / X.shape[0] for x_i in X.T]).reshape(-1,1) , np.mean(y_pred - y)\n",
        "        \n",
        "\n",
        "def metrics(reg,X_train, X_test, y_train, y_test) :\n",
        "    y_pred_train , y_pred_test= np.array(reg.predict(X_train) > 0.5,dtype=np.int32) , np.array(reg.predict(X_test) > 0.5,dtype=np.int32)\n",
        "    cf_matrix_train , cf_matrix_test= confusion_matrix(y_train,y_pred_train) ,  confusion_matrix(y_test,y_pred_test)\n",
        "    accuracy_train , accuracy_test = np.trace(cf_matrix_train) / y_train.shape[0] * 100 , np.trace(cf_matrix_test) / y_test.shape[0] * 100\n",
        "    precision_train = cf_matrix_train[1,1] / (cf_matrix_train[1,1] + cf_matrix_train[0,1]) * 100\n",
        "    precision_test = cf_matrix_test[1,1] / (cf_matrix_test[1,1] + cf_matrix_test[0,1]) * 100\n",
        "    fig , axes = plt.subplots(1,3,figsize = (13,3))\n",
        "    axes[0].set_title(\"train\") , axes[1].set_title(\"test\")\n",
        "    ConfusionMatrixDisplay(cf_matrix_train).plot(ax=axes[0])\n",
        "    ConfusionMatrixDisplay(cf_matrix_test).plot(ax=axes[1])\n",
        "    bar1 = plt.bar([-0.15 , 0.85],[accuracy_train,precision_train],label=\"train\",width=0.3)\n",
        "    bar2 = plt.bar([0.15 , 1.15],[accuracy_test,precision_test],label=\"test\",width=0.3)\n",
        "    plt.xticks([0,1],['accuracy','precision'])\n",
        "    plt.yticks(np.arange(0,101,20))\n",
        "    plt.legend(loc = 'lower right')\n",
        "    for bar in [bar1, bar2]:\n",
        "        for rect in bar:\n",
        "            height = rect.get_height()\n",
        "            plt.text(rect.get_x() + rect.get_width()/2, height - 7,f'{height:.1f}%',ha='center', va='bottom' , color = 'white')\n",
        "    plt.show()"
      ]
    },
    {
      "cell_type": "markdown",
      "metadata": {
        "id": "S-i-oubUlZ6e"
      },
      "source": [
        "**Task:** Test your model on the given dataset. You must split your data into train and test, with a 0.2 split, then normalize your data using X_train data. Finally, report 4 different evaluation metrics of the model on the test set. (You might want to first make the Target column binary!)"
      ]
    },
    {
      "cell_type": "code",
      "execution_count": 239,
      "metadata": {
        "colab": {
          "base_uri": "https://localhost:8080/"
        },
        "id": "0KXzIy_2u-pG",
        "outputId": "9625f7e2-abb1-4591-c0fa-843525e0ffd6"
      },
      "outputs": [
        {
          "name": "stdout",
          "output_type": "stream",
          "text": [
            "X_train shape : (320, 7) , y_train shape : (320,)\n",
            "X_test shape : (80, 7) , y_test shape : (80,)\n",
            "log_loss : 0.1352 with 506 epoch \n",
            "\n"
          ]
        },
        {
          "data": {
            "image/png": "[encoded data removed]",
            "text/plain": [
              "<Figure size 1300x300 with 5 Axes>"
            ]
          },
          "metadata": {},
          "output_type": "display_data"
        }
      ],
      "source": [
        "# Your code goes here!\n",
        "data = pd.read_csv('./Q2/Logistic_question.csv').to_numpy()\n",
        "input , output = data[:,:7] , data[:,7]\n",
        "y = np.array(output >= 0.5,dtype=np.int32)\n",
        "scale  = MinMaxScaler()\n",
        "X = scale.fit_transform(input)\n",
        "X_train, X_test, y_train, y_test = train_test_split(X, y, test_size = 0.2,random_state = 40)\n",
        "print(f'X_train shape : {X_train.shape} , y_train shape : {y_train.shape}')\n",
        "print(f'X_test shape : {X_test.shape} , y_test shape : {y_test.shape}')\n",
        "\n",
        "reg = MyLogisticRegression()\n",
        "reg.fit(X_train,y_train,1000,20)\n",
        "metrics(reg,X_train, X_test, y_train, y_test)"
      ]
    },
    {
      "cell_type": "markdown",
      "metadata": {
        "id": "Ji0RXNGKv1pa"
      },
      "source": [
        "**Question:** What are each of your used evaluation metrics? And for each one, mention situations in which they convey more data on the model performance in specific tasks."
      ]
    },
    {
      "cell_type": "markdown",
      "metadata": {
        "id": "ldveD35twRRZ"
      },
      "source": [
        "**Your answer:**"
      ]
    },
    {
      "cell_type": "markdown",
      "metadata": {
        "id": "1ZCeRHZSw-mh"
      },
      "source": [
        "**Task:** Now test the built-in function of Python for Logistic Regression, and report all the same metrics used before."
      ]
    },
    {
      "cell_type": "code",
      "execution_count": 240,
      "metadata": {
        "id": "Vb5lRSQXDLR3"
      },
      "outputs": [
        {
          "data": {
            "image/png": "[encoded data removed]",
            "text/plain": [
              "<Figure size 1300x300 with 5 Axes>"
            ]
          },
          "metadata": {},
          "output_type": "display_data"
        }
      ],
      "source": [
        "# Your code goes here!\n",
        "reg = LogisticRegression()\n",
        "reg.fit(X_train,y_train.squeeze())\n",
        "metrics(reg,X_train, X_test, y_train, y_test)"
      ]
    },
    {
      "cell_type": "markdown",
      "metadata": {
        "id": "RCvIymmMy_ji"
      },
      "source": [
        "**Question:** Compare your function with the built-in function. On the matters of performance and parameters. Briefly explain what the parameters of the built-in function are and how they affect the model's performance?"
      ]
    },
    {
      "cell_type": "markdown",
      "metadata": {
        "id": "EY0ohM16z3De"
      },
      "source": [
        "**Your answer:**"
      ]
    },
    {
      "cell_type": "markdown",
      "metadata": {
        "id": "ClMqoYlr2kr7"
      },
      "source": [
        "# Multinomial Logistic Regression"
      ]
    },
    {
      "cell_type": "markdown",
      "metadata": {
        "id": "ukvlqDe52xP5"
      },
      "source": [
        "**Task:** Implement your own Multinomial Logistic Regression model. Your model must be able to handle any number of labels!"
      ]
    },
    {
      "cell_type": "code",
      "execution_count": 164,
      "metadata": {
        "id": "5Ir-_hFt286t"
      },
      "outputs": [],
      "source": [
        "# import necessary libraries\n",
        "\n",
        "\n",
        "class MyMultinomialLogisticRegression:\n",
        "    # Your code goes here!\n",
        "    # This class must have an __init__ method, a loss function, a fit function, and a predict function.\n",
        "    # You also need to make your code runnable on gpu!\n",
        "\n",
        "    def __init__(self) :\n",
        "        pass\n",
        "        \n",
        "    def fit(self,X,y,max_epoch,learning_rate) :\n",
        "        X = np.insert(X,0,1,axis=1)\n",
        "        self.__m , self.__n , self.__j = X.shape[0] , X.shape[1] , np.max(y) + 1\n",
        "        self.__coef  = np.zeros((self.__n,self.__j),dtype = np.float64)\n",
        "        y_pred , prev_log_loss = self.predict(X,True) , np.Inf\n",
        "        for _ in range(max_epoch) :\n",
        "            coef = self.__gradient_descent(X,y,y_pred)\n",
        "            self.__coef = self.__coef - learning_rate * coef\n",
        "            y_pred , log_loss = self.predict(X,True) , self.__loss(y,y_pred)\n",
        "            if np.abs(prev_log_loss - log_loss) < 1e-6 : break\n",
        "            prev_log_loss = log_loss\n",
        "        if _ == max_epoch - 1 : print(f'max epoch reached')\n",
        "        print (f'log_loss : {log_loss:.4f} with {_} epoch \\n')\n",
        "        \n",
        "    def predict(self,X,training = False) :\n",
        "        if not training : X = np.insert(X,0,1,axis=1)\n",
        "        Z = np.exp(X @ self.__coef)\n",
        "        return Z / np.sum(Z, axis=1).reshape(-1,1) if training else np.argmax(Z / np.sum(Z, axis=1).reshape(-1,1),axis=1)\n",
        "    \n",
        "    def __gradient_descent(self,X,y,y_pred) :\n",
        "        return  X.T @ (y_pred - np.eye(self.__j)[y]) / self.__m\n",
        "    \n",
        "    def __loss(self,y,y_pred) :\n",
        "        return - np.mean([np.log(x[y[indx]]) for indx,x in enumerate(y_pred)])"
      ]
    },
    {
      "cell_type": "markdown",
      "metadata": {
        "id": "zPQ3Rtay3Y2_"
      },
      "source": [
        "**Task:** Test your model on the given dataset. Do the same as the previous part, but here you might want to first make the Target column quantized into $i$ levels. Change $i$ from 2 to 10."
      ]
    },
    {
      "cell_type": "code",
      "execution_count": 174,
      "metadata": {
        "id": "9aP4QJPq29B3"
      },
      "outputs": [
        {
          "name": "stdout",
          "output_type": "stream",
          "text": [
            "log_loss : 0.1354 with 1248 epoch \n",
            "\n",
            "for  i = 2 acc : 0.95\n",
            "for  i = 2 acc : 0.9375\n"
          ]
        }
      ],
      "source": [
        "# Your code goes here!\n",
        "i = 2\n",
        "y = np.array(output / (1 / i),dtype=np.int32)\n",
        "X_train, X_test, y_train, y_test = train_test_split(X, y, test_size = 0.2,random_state = 40)\n",
        "reg = MyMultinomialLogisticRegression()\n",
        "reg.fit(X_train,y_train,20000,3)\n",
        "print(f'for  i = {i} acc :',np.sum(reg.predict(X_train) == y_train) / 320)\n",
        "print(f'for  i = {i} acc :',np.sum(reg.predict(X_test) == y_test) / 80)"
      ]
    },
    {
      "cell_type": "markdown",
      "metadata": {
        "id": "Of2sHl5Z4dXi"
      },
      "source": [
        "**Question:** Report for which $i$ your model performs best. Describe and analyze the results! You could use visualizations or any other method!"
      ]
    },
    {
      "cell_type": "markdown",
      "metadata": {
        "id": "cRLERDAr4wnS"
      },
      "source": [
        "**Your answer:**"
      ]
    },
    {
      "cell_type": "markdown",
      "metadata": {
        "id": "wT43jGKV6CBZ"
      },
      "source": [
        "# Going a little further!"
      ]
    },
    {
      "cell_type": "markdown",
      "metadata": {
        "id": "Vo9uGo0R6GZo"
      },
      "source": [
        "First we download Adult income dataset from Kaggle! In order to do this create an account on this website, and create an API. A file named kaggle.json will be downloaded to your device. Then use the following code:"
      ]
    },
    {
      "cell_type": "code",
      "execution_count": null,
      "metadata": {
        "colab": {
          "base_uri": "https://localhost:8080/",
          "height": 73
        },
        "id": "o-vrjYBF7u1E",
        "outputId": "b274bc6e-4c35-4ad8-f17b-9e69f7d92923"
      },
      "outputs": [],
      "source": [
        "from google.colab import files\n",
        "files.upload()  # Use this to select the kaggle.json file from your computer\n",
        "!mkdir -p ~/.kaggle\n",
        "!cp kaggle.json ~/.kaggle/\n",
        "!chmod 600 ~/.kaggle/kaggle.json"
      ]
    },
    {
      "cell_type": "markdown",
      "metadata": {
        "id": "5i6u6_1v8ftX"
      },
      "source": [
        "Then use this code to automatically download the dataset into Colab."
      ]
    },
    {
      "cell_type": "code",
      "execution_count": null,
      "metadata": {
        "colab": {
          "base_uri": "https://localhost:8080/"
        },
        "id": "XjyVaVKF29Hx",
        "outputId": "15d0b1a2-c806-4102-abbc-12545237e218"
      },
      "outputs": [],
      "source": [
        "!kaggle datasets download -d wenruliu/adult-income-dataset\n",
        "!unzip /content/adult-income-dataset.zip"
      ]
    },
    {
      "cell_type": "markdown",
      "metadata": {
        "id": "EXQnbZwt8rJK"
      },
      "source": [
        "**Task:** Determine the number of null entries!"
      ]
    },
    {
      "cell_type": "code",
      "execution_count": null,
      "metadata": {
        "colab": {
          "base_uri": "https://localhost:8080/"
        },
        "id": "JtuEx6QW29c1",
        "outputId": "43397bec-0622-4dc4-de2b-c65be00e4503"
      },
      "outputs": [],
      "source": [
        "# Your code goes here!\n"
      ]
    },
    {
      "cell_type": "markdown",
      "metadata": {
        "id": "JpEcBdTUAYVN"
      },
      "source": [
        "**Question:** In many widely used datasets there are a lot of null entries. Propose 5 methods by which, one could deal with this problem. Briefly explain how do you decide which one to use in this problem."
      ]
    },
    {
      "cell_type": "markdown",
      "metadata": {
        "id": "l1u1pBHuAsSg"
      },
      "source": [
        "**Your answer:**"
      ]
    },
    {
      "cell_type": "markdown",
      "metadata": {
        "id": "eHhH-hkpAxFf"
      },
      "source": [
        "**Task:** Handle null entries using your best method."
      ]
    },
    {
      "cell_type": "code",
      "execution_count": null,
      "metadata": {
        "colab": {
          "base_uri": "https://localhost:8080/",
          "height": 206
        },
        "id": "5fVwWcjK29fk",
        "outputId": "c21a6adf-1e6c-46d0-dd61-79d1710272c1"
      },
      "outputs": [],
      "source": [
        "# Your code goes here!\n"
      ]
    },
    {
      "cell_type": "markdown",
      "metadata": {
        "id": "43k5cTorCJaV"
      },
      "source": [
        "**Task:** Convert categorical features to numerical values. Split the dataset with 80-20 portion. Normalize all the data using X_train. Use the built-in Logistic Regression function and GridSearchCV to train your model, and report the parameters, train and test accuracy of the best model."
      ]
    },
    {
      "cell_type": "code",
      "execution_count": null,
      "metadata": {
        "colab": {
          "base_uri": "https://localhost:8080/"
        },
        "id": "Agj18Lcd-vyZ",
        "outputId": "69e132a9-0249-4a21-c8f3-45247c1e17dc"
      },
      "outputs": [],
      "source": [
        "# Your code goes here!\n"
      ]
    },
    {
      "cell_type": "markdown",
      "metadata": {
        "id": "6Lzr2lqXDQ1T"
      },
      "source": [
        "**Task:** To try a different route, split X_train into $i$ parts, and train $i$ separate models on these parts. Now propose and implement 3 different *ensemble methods* to derive the global models' prediction for X_test using the results(not necessarily predictions!) of the $i$ models. Firstly, set $i=10$ to find the method with the best test accuracy(the answer is not general!). You must Use your own Logistic Regression model.(You might want to modify it a little bit for this part!)"
      ]
    },
    {
      "cell_type": "code",
      "execution_count": null,
      "metadata": {
        "id": "K9D1jlstF9nF"
      },
      "outputs": [],
      "source": [
        "# Your code goes here!\n"
      ]
    },
    {
      "cell_type": "markdown",
      "metadata": {
        "id": "9QS9HYJ5FW1T"
      },
      "source": [
        "**Question:** Explain your proposed methods and the reason you decided to use them!"
      ]
    },
    {
      "cell_type": "markdown",
      "metadata": {
        "id": "6hCBQuAeF46a"
      },
      "source": [
        "**Your answer:**"
      ]
    },
    {
      "cell_type": "markdown",
      "metadata": {
        "id": "jjSREvg4FTHf"
      },
      "source": [
        "**Task:** Now, for your best method, change $i$ from 2 to 100 and report $i$, train and test accuracy of the best model. Also, plot test and train accuracy for $2\\leq i\\leq100$."
      ]
    },
    {
      "cell_type": "code",
      "execution_count": null,
      "metadata": {
        "id": "tfKS-Jq0-v4P"
      },
      "outputs": [],
      "source": [
        "# Your code goes here!\n"
      ]
    },
    {
      "cell_type": "markdown",
      "metadata": {
        "id": "BWV0YUgRGg1p"
      },
      "source": [
        "**Question:** Analyze the results."
      ]
    },
    {
      "cell_type": "markdown",
      "metadata": {},
      "source": [
        "**Your Answer:**"
      ]
    }
  ],
  "metadata": {
    "colab": {
      "provenance": []
    },
    "kernelspec": {
      "display_name": "Python 3",
      "name": "python3"
    },
    "language_info": {
      "codemirror_mode": {
        "name": "ipython",
        "version": 3
      },
      "file_extension": ".py",
      "mimetype": "text/x-python",
      "name": "python",
      "nbconvert_exporter": "python",
      "pygments_lexer": "ipython3",
      "version": "3.11.5"
    }
  },
  "nbformat": 4,
  "nbformat_minor": 0
}
