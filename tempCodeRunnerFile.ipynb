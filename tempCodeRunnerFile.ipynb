def plot_semilog(X,Y1,Y2,title,i):
    plt.subplot(1,2,i)
    plt.title(f'{title} vs alphas')
    plt.semilogx(X,Y1,label = 'train')
    plt.semilogx(X,Y2,label = 'test')
    print(f'for alpha = {X[np.argmin(Y2)]:.3f} the error = {np.min(Y2)} is min.')
    plt.legend()
